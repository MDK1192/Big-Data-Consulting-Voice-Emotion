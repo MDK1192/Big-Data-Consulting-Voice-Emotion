{
 "cells": [
  {
   "cell_type": "markdown",
   "metadata": {
    "id": "oaDJxKXP841f"
   },
   "source": [
    "# Die Stimmungserkennung (SER)"
   ]
  },
  {
   "cell_type": "markdown",
   "metadata": {
    "id": "iDcbPKzp841q"
   },
   "source": [
    "## Inhalt\n",
    "\n",
    "* [Tensorboard](#Tensorboard)\n",
    "* [Python-Bibliotheken](#Bibliotheken)\n",
    "* [Die Vorverarbeitung](#Vorverarbeitung)  \n",
    "    * [Die Datenbeladung](#Datenbeladung)    \n",
    "    * [Die Datenvisualisierung](#datenvisual)\n",
    "* [Das Klassifikationsmodell](#klassifikationsmodell)\n",
    "    * [Die Modellskonfiguration](#modelskonfiguration)\n",
    "    * [Die Modellstruktur](#modellstruktur)\n",
    "    * [Modell-Training](#modelltraining)"
   ]
  },
  {
   "cell_type": "markdown",
   "metadata": {
    "id": "1yDPBdPH841r"
   },
   "source": [
    "## Tensorboard<a class=\"anchor\" id=\"Tensorboard\"></a>"
   ]
  },
  {
   "cell_type": "markdown",
   "metadata": {
    "id": "w7_TIEPw841r"
   },
   "source": [
    "#### Tensorboard ist eine Webanwendung zur Visualisierungverschidener Aspekte neuronaler Netze"
   ]
  },
  {
   "cell_type": "code",
   "execution_count": 1,
   "metadata": {
    "executionInfo": {
     "elapsed": 2636,
     "status": "ok",
     "timestamp": 1619168340322,
     "user": {
      "displayName": "Vladimir Burlay",
      "photoUrl": "https://lh3.googleusercontent.com/a-/AOh14GjNe0ZcJ4bTepfp22ZNsPIl1yT0bxsXS0U9q3e1=s64",
      "userId": "00613275520550369224"
     },
     "user_tz": -120
    },
    "id": "BKld2qav841s"
   },
   "outputs": [],
   "source": [
    "from keras.backend import clear_session\n",
    "clear_session()\n",
    "%reload_ext tensorboard"
   ]
  },
  {
   "cell_type": "markdown",
   "metadata": {
    "id": "WV77RanH841s"
   },
   "source": [
    "## Python-Bibliotheken<a class=\"anchor\" id=\"Bibliotheken\"></a>"
   ]
  },
  {
   "cell_type": "code",
   "execution_count": 17,
   "metadata": {
    "executionInfo": {
     "elapsed": 929,
     "status": "ok",
     "timestamp": 1619173780910,
     "user": {
      "displayName": "Vladimir Burlay",
      "photoUrl": "https://lh3.googleusercontent.com/a-/AOh14GjNe0ZcJ4bTepfp22ZNsPIl1yT0bxsXS0U9q3e1=s64",
      "userId": "00613275520550369224"
     },
     "user_tz": -120
    },
    "id": "T4kvSadL841t"
   },
   "outputs": [],
   "source": [
    "import torch\n",
    "import torch.nn as nn\n",
    "import torch.nn.functional as F\n",
    "import torch.optim as optim\n",
    "import matplotlib.pyplot as plt\n",
    "import IPython.display as display\n",
    "import numpy as np\n",
    "import random\n",
    "import librosa\n",
    "import librosa.display\n",
    "import tensorflow as tf\n",
    "import torchaudio \n",
    "import torchvision\n",
    "from torchvision import models, transforms\n",
    "from pathlib import Path\n",
    "from PIL import Image\n",
    "from torch.utils.data import Dataset, DataLoader\n",
    "from sklearn.metrics import classification_report,confusion_matrix\n",
    "import itertools"
   ]
  },
  {
   "cell_type": "markdown",
   "metadata": {
    "id": "eQSues7z841t"
   },
   "source": [
    "## Die Vorverarbeitung<a class=\"anchor\" id=\"Vorverarbeitung\"></a>"
   ]
  },
  {
   "cell_type": "code",
   "execution_count": 18,
   "metadata": {
    "executionInfo": {
     "elapsed": 981,
     "status": "ok",
     "timestamp": 1619173784865,
     "user": {
      "displayName": "Vladimir Burlay",
      "photoUrl": "https://lh3.googleusercontent.com/a-/AOh14GjNe0ZcJ4bTepfp22ZNsPIl1yT0bxsXS0U9q3e1=s64",
      "userId": "00613275520550369224"
     },
     "user_tz": -120
    },
    "id": "IGt-DxWl841u"
   },
   "outputs": [],
   "source": [
    "# \"surprise\" wird von 8 auf 0 geändert\n",
    "EMOTIONS = {0:'neutral', 1:'calm', 2:'happy', 3:'sad', 4:'angry', 5:'fear', 6:'disgust', 7:'surprise'} \n",
    "class_names = [EMOTIONS[ind] for ind in range(len(EMOTIONS))]"
   ]
  },
  {
   "cell_type": "code",
   "execution_count": 19,
   "metadata": {
    "executionInfo": {
     "elapsed": 1340,
     "status": "ok",
     "timestamp": 1619173787796,
     "user": {
      "displayName": "Vladimir Burlay",
      "photoUrl": "https://lh3.googleusercontent.com/a-/AOh14GjNe0ZcJ4bTepfp22ZNsPIl1yT0bxsXS0U9q3e1=s64",
      "userId": "00613275520550369224"
     },
     "user_tz": -120
    },
    "id": "sjaCK71T841u"
   },
   "outputs": [],
   "source": [
    "# Die Trainigschleife\n",
    "def train(model, optimizer, loss_fn, train_loader, val_loader, epochs=20, device=\"cpu\"):\n",
    "    for epoch in range(1, epochs+1):\n",
    "        training_loss = 0.0\n",
    "        valid_loss = 0.0\n",
    "        model.train()\n",
    "        for batch in train_loader:\n",
    "            optimizer.zero_grad()\n",
    "            inputs, targets = batch\n",
    "            inputs = inputs.to(device)\n",
    "            targets = targets.to(device)\n",
    "            output = model(inputs)\n",
    "            loss = loss_fn(output, targets)\n",
    "            loss.backward()\n",
    "            optimizer.step()\n",
    "            training_loss += loss.data.item() * inputs.size(0)\n",
    "        training_loss /= len(train_loader.dataset)\n",
    "        \n",
    "        model.eval()\n",
    "        num_correct = 0 \n",
    "        num_examples = 0\n",
    "        for batch in val_loader:\n",
    "            inputs, targets = batch\n",
    "            inputs = inputs.to(device)\n",
    "            output = model(inputs)\n",
    "            targets = targets.to(device)\n",
    "            loss = loss_fn(output,targets) \n",
    "            valid_loss += loss.data.item() * inputs.size(0)\n",
    "            correct = torch.eq(torch.max(F.softmax(output, dim=1), dim = 1)[1], targets)#.view(2)\n",
    "            num_correct += torch.sum(correct).item()\n",
    "            num_examples += correct.shape[0]\n",
    "        valid_loss /= len(val_loader.dataset)\n",
    "\n",
    "        print('Epoch: {}, Training Loss: {:.2f}, Validation Loss: {:.2f}, accuracy = {:.2f}'.format(epoch, training_loss,\n",
    "        valid_loss, num_correct / num_examples))\n",
    "        \n",
    "#Die optimale Lernrate finden        \n",
    "def find_lr(model, loss_fn, optimizer, train_loader, init_value=1e-8, final_value=10.0, device=\"cpu\"):\n",
    "    number_in_epoch = len(train_loader) - 1\n",
    "    update_step = (final_value / init_value) ** (1 / number_in_epoch)\n",
    "    lr = init_value\n",
    "    optimizer.param_groups[0][\"lr\"] = lr\n",
    "    best_loss = 0.0\n",
    "    batch_num = 0\n",
    "    losses = []\n",
    "    log_lrs = []\n",
    "    for data in train_loader:\n",
    "        batch_num += 1\n",
    "        inputs, targets = data\n",
    "        inputs = inputs.to(device)\n",
    "        targets = targets.to(device)\n",
    "        optimizer.zero_grad()\n",
    "        outputs = model(inputs)\n",
    "        loss = loss_fn(outputs, targets)\n",
    "\n",
    "        # Crash out if loss explodes\n",
    "\n",
    "        if batch_num > 1 and loss > 4 * best_loss:\n",
    "            if(len(log_lrs) > 20):\n",
    "                return log_lrs[10:-5], losses[10:-5]\n",
    "            else:\n",
    "                return log_lrs, losses\n",
    "\n",
    "        # Record the best loss\n",
    "\n",
    "        if loss < best_loss or batch_num == 1:\n",
    "            best_loss = loss\n",
    "\n",
    "        # Store the values\n",
    "        losses.append(loss.item())\n",
    "        log_lrs.append((lr))\n",
    "\n",
    "        # Do the backward pass and optimize\n",
    "\n",
    "        loss.backward()\n",
    "        optimizer.step()\n",
    "\n",
    "        # Update the lr for the next step and store\n",
    "\n",
    "        lr *= update_step\n",
    "        optimizer.param_groups[0][\"lr\"] = lr\n",
    "    if(len(log_lrs) > 20):\n",
    "        return log_lrs[10:-5], losses[10:-5]\n",
    "    else:\n",
    "        return log_lrs, losses        "
   ]
  },
  {
   "cell_type": "code",
   "execution_count": 34,
   "metadata": {
    "colab": {
     "base_uri": "https://localhost:8080/"
    },
    "executionInfo": {
     "elapsed": 114614,
     "status": "ok",
     "timestamp": 1619174622475,
     "user": {
      "displayName": "Vladimir Burlay",
      "photoUrl": "https://lh3.googleusercontent.com/a-/AOh14GjNe0ZcJ4bTepfp22ZNsPIl1yT0bxsXS0U9q3e1=s64",
      "userId": "00613275520550369224"
     },
     "user_tz": -120
    },
    "id": "P01R1YnET0MY",
    "outputId": "aa947f8e-45cf-4986-e8dd-e36acff8daee"
   },
   "outputs": [
    {
     "name": "stdout",
     "output_type": "stream",
     "text": [
      "Mounted at /content/drive\n"
     ]
    }
   ],
   "source": [
    "\n",
    "from google.colab import drive\n",
    "drive.mount('/content/drive')"
   ]
  },
  {
   "cell_type": "code",
   "execution_count": 38,
   "metadata": {
    "executionInfo": {
     "elapsed": 490,
     "status": "ok",
     "timestamp": 1619174672842,
     "user": {
      "displayName": "Vladimir Burlay",
      "photoUrl": "https://lh3.googleusercontent.com/a-/AOh14GjNe0ZcJ4bTepfp22ZNsPIl1yT0bxsXS0U9q3e1=s64",
      "userId": "00613275520550369224"
     },
     "user_tz": -120
    },
    "id": "RnyCcht1TodO"
   },
   "outputs": [],
   "source": [
    "\n",
    "import os\n",
    "os.chdir('drive/My Drive')\n",
    "gdrive_path = os.getcwd()"
   ]
  },
  {
   "cell_type": "code",
   "execution_count": 41,
   "metadata": {
    "executionInfo": {
     "elapsed": 498,
     "status": "ok",
     "timestamp": 1619174694677,
     "user": {
      "displayName": "Vladimir Burlay",
      "photoUrl": "https://lh3.googleusercontent.com/a-/AOh14GjNe0ZcJ4bTepfp22ZNsPIl1yT0bxsXS0U9q3e1=s64",
      "userId": "00613275520550369224"
     },
     "user_tz": -120
    },
    "id": "_AKDstxh841v"
   },
   "outputs": [],
   "source": [
    "# Audiodateien\n",
    "\n",
    "PATH_TO_RAVDESS = Path.cwd() / \"ravdess\" / \"frequenzbereich\"\n",
    "PATH_RAVDESS_TRAIN = PATH_TO_RAVDESS / \"train\"\n",
    "PATH_RAVDESS_TEST = PATH_TO_RAVDESS / \"test\"\n",
    "PATH_RAVDESS_VALID = PATH_TO_RAVDESS / \"valid\""
   ]
  },
  {
   "cell_type": "code",
   "execution_count": 72,
   "metadata": {
    "executionInfo": {
     "elapsed": 474,
     "status": "ok",
     "timestamp": 1619196457923,
     "user": {
      "displayName": "Vladimir Burlay",
      "photoUrl": "https://lh3.googleusercontent.com/a-/AOh14GjNe0ZcJ4bTepfp22ZNsPIl1yT0bxsXS0U9q3e1=s64",
      "userId": "00613275520550369224"
     },
     "user_tz": -120
    },
    "id": "pLB00T6QkAA9"
   },
   "outputs": [],
   "source": [
    "path_model = Path.cwd() / \"ravdess\" / \"modell\" / \"spec_resnet_temp.pth\""
   ]
  },
  {
   "cell_type": "code",
   "execution_count": 40,
   "metadata": {
    "colab": {
     "base_uri": "https://localhost:8080/"
    },
    "executionInfo": {
     "elapsed": 498,
     "status": "ok",
     "timestamp": 1619174686230,
     "user": {
      "displayName": "Vladimir Burlay",
      "photoUrl": "https://lh3.googleusercontent.com/a-/AOh14GjNe0ZcJ4bTepfp22ZNsPIl1yT0bxsXS0U9q3e1=s64",
      "userId": "00613275520550369224"
     },
     "user_tz": -120
    },
    "id": "C3WqHIOa9zgP",
    "outputId": "a5128ede-0e92-4c46-f6b6-bda024853bed"
   },
   "outputs": [
    {
     "data": {
      "text/plain": [
       "PosixPath('/content/drive/My Drive/ravdess/frequenzbereich')"
      ]
     },
     "execution_count": 40,
     "metadata": {
      "tags": []
     },
     "output_type": "execute_result"
    }
   ],
   "source": [
    "PATH_TO_RAVDESS"
   ]
  },
  {
   "cell_type": "markdown",
   "metadata": {
    "id": "wYREh_AQ841w"
   },
   "source": [
    "### Die Datenbeladung<a class=\"anchor\" id=\"Datenbeladung\"></a>"
   ]
  },
  {
   "cell_type": "code",
   "execution_count": 36,
   "metadata": {
    "executionInfo": {
     "elapsed": 526,
     "status": "ok",
     "timestamp": 1619174656462,
     "user": {
      "displayName": "Vladimir Burlay",
      "photoUrl": "https://lh3.googleusercontent.com/a-/AOh14GjNe0ZcJ4bTepfp22ZNsPIl1yT0bxsXS0U9q3e1=s64",
      "userId": "00613275520550369224"
     },
     "user_tz": -120
    },
    "id": "O-6KZ4Wh841w"
   },
   "outputs": [],
   "source": [
    "# Das Einlesen der Bilder\n",
    "class PrecomputedRavdess(Dataset):\n",
    "    def __init__(self,path,dpi=50, img_transforms=None):\n",
    "        files = Path(path).glob('{}{}*.wav.png'.format(path.name, dpi))\n",
    "        self.items = [(f,int(f.name.split(\"-\")[2].replace(\".wav.png\",\"\"))) for f in files]\n",
    "        self.length = len(self.items)\n",
    "        if img_transforms == None:\n",
    "            self.img_transforms = transforms.Compose([transforms.ToTensor()])\n",
    "        else:\n",
    "            self.img_transforms = img_transforms\n",
    "    \n",
    "    def __getitem__(self, index):\n",
    "        filename, label = self.items[index]\n",
    "        img = Image.open(filename).convert('RGB')\n",
    "        return (self.img_transforms(img), label)\n",
    "            \n",
    "    def __len__(self):\n",
    "        return self.length"
   ]
  },
  {
   "cell_type": "code",
   "execution_count": 42,
   "metadata": {
    "executionInfo": {
     "elapsed": 438,
     "status": "ok",
     "timestamp": 1619174704563,
     "user": {
      "displayName": "Vladimir Burlay",
      "photoUrl": "https://lh3.googleusercontent.com/a-/AOh14GjNe0ZcJ4bTepfp22ZNsPIl1yT0bxsXS0U9q3e1=s64",
      "userId": "00613275520550369224"
     },
     "user_tz": -120
    },
    "id": "bw_K-9D5841w"
   },
   "outputs": [],
   "source": [
    "def LoadRavdess(bs):\n",
    "\n",
    "    ravdess_train = PrecomputedRavdess(PATH_RAVDESS_TRAIN,\n",
    "                                  img_transforms=transforms.Compose([\n",
    "                                      transforms.Resize((224,224)),\n",
    "                                      transforms.ToTensor(),\n",
    "                                      transforms.Normalize(mean=[0.485, 0.456, 0.406],\n",
    "                                                           std=[0.229, 0.224, 0.225])])\n",
    "    )\n",
    "\n",
    "    ravdess_test = PrecomputedRavdess(PATH_RAVDESS_TEST,\n",
    "                                  img_transforms=transforms.Compose([\n",
    "                                      transforms.Resize((224,224)),\n",
    "                                      transforms.ToTensor(),\n",
    "                                      transforms.Normalize(mean=[0.485, 0.456, 0.406],\n",
    "                                                           std=[0.229, 0.224, 0.225])])\n",
    "    )\n",
    "    \n",
    "    ravdess_valid = PrecomputedRavdess(PATH_RAVDESS_VALID,\n",
    "                                  img_transforms=transforms.Compose([\n",
    "                                      transforms.Resize((224,224)),\n",
    "                                      transforms.ToTensor(),\n",
    "                                      transforms.Normalize(mean=[0.485, 0.456, 0.406],\n",
    "                                                           std=[0.229, 0.224, 0.225])])\n",
    "    )\n",
    "\n",
    "    ravdess_train_loader = torch.utils.data.DataLoader(ravdess_train, bs, shuffle=True)\n",
    "    ravdess_test_loader = torch.utils.data.DataLoader(ravdess_test, bs, shuffle=True)\n",
    "    ravdess_valid_loader = torch.utils.data.DataLoader(ravdess_valid, bs, shuffle=True)\n",
    "            \n",
    "    return ravdess_train_loader, ravdess_test_loader, ravdess_valid_loader "
   ]
  },
  {
   "cell_type": "markdown",
   "metadata": {
    "id": "nh0QNGuA841x"
   },
   "source": [
    "### Die Datenvisualisierung<a class=\"anchor\" id=\"#datenvisual\"></a>"
   ]
  },
  {
   "cell_type": "code",
   "execution_count": 43,
   "metadata": {
    "executionInfo": {
     "elapsed": 3925,
     "status": "ok",
     "timestamp": 1619174711624,
     "user": {
      "displayName": "Vladimir Burlay",
      "photoUrl": "https://lh3.googleusercontent.com/a-/AOh14GjNe0ZcJ4bTepfp22ZNsPIl1yT0bxsXS0U9q3e1=s64",
      "userId": "00613275520550369224"
     },
     "user_tz": -120
    },
    "id": "kOKRPw8x841x"
   },
   "outputs": [],
   "source": [
    "ravdess_train_loader, ravdess_test_loader, ravdess_valid_loader = LoadRavdess(64)"
   ]
  },
  {
   "cell_type": "code",
   "execution_count": null,
   "metadata": {
    "id": "vn8QpWKv841x",
    "outputId": "8cc29cfb-6e66-4974-940b-5869ccb21e71"
   },
   "outputs": [
    {
     "name": "stdout",
     "output_type": "stream",
     "text": [
      "Train Labels: tensor([1, 7, 6, 4, 5, 4, 6, 2, 2, 5, 0, 7, 1, 6, 7, 0, 5, 7, 1, 3, 5, 2, 0, 2,\n",
      "        7, 1, 2, 2, 5, 2, 7, 0, 3, 0, 3, 0, 2, 5, 6, 5, 0, 5, 3, 2, 0, 2, 0, 6,\n",
      "        0, 2, 5, 2, 6, 5, 0, 2, 2, 0, 5, 5, 6, 3, 6, 5])\n"
     ]
    },
    {
     "data": {
      "image/png": "[encoded data removed]",
      "text/plain": [
       "<Figure size 432x288 with 1 Axes>"
      ]
     },
     "metadata": {
      "needs_background": "light",
      "tags": []
     },
     "output_type": "display_data"
    }
   ],
   "source": [
    "def imshow(img):\n",
    "     img = img / 2 + 0.5\n",
    "     npimg = img.numpy()\n",
    "     plt.imshow(np.transpose(npimg, (1, 2, 0)))\n",
    "     plt.show()\n",
    "images_train, labels_train = next(iter(ravdess_train_loader))  \n",
    "images_test, labels_test = next(iter(ravdess_test_loader))\n",
    "images_valid, labels_valid = next(iter(ravdess_valid_loader))\n",
    "print(\"Train Labels:\",labels_train)\n",
    "\n",
    "imshow(torchvision.utils.make_grid(images_valid)/ 4)"
   ]
  },
  {
   "cell_type": "markdown",
   "metadata": {
    "id": "NkVKnEF7841z"
   },
   "source": [
    "## Das Klassifikationsmodell<a class=\"anchor\" id=\"#klassifikationsmodell\"></a>"
   ]
  },
  {
   "cell_type": "markdown",
   "metadata": {
    "id": "7jS69_mS841z"
   },
   "source": [
    "### Die Modellskonfiguration<a class=\"anchor\" id=\"#modelskonfiguration\"></a>"
   ]
  },
  {
   "cell_type": "code",
   "execution_count": 44,
   "metadata": {
    "executionInfo": {
     "elapsed": 493,
     "status": "ok",
     "timestamp": 1619174739021,
     "user": {
      "displayName": "Vladimir Burlay",
      "photoUrl": "https://lh3.googleusercontent.com/a-/AOh14GjNe0ZcJ4bTepfp22ZNsPIl1yT0bxsXS0U9q3e1=s64",
      "userId": "00613275520550369224"
     },
     "user_tz": -120
    },
    "id": "3W1DQra5841z"
   },
   "outputs": [],
   "source": [
    "def model_res():\n",
    "    device = \"cpu\"\n",
    "    spec_resnet = models.resnet50(pretrained=True)\n",
    "\n",
    "    for param in spec_resnet.parameters():\n",
    "        param.requires_grad = False\n",
    "\n",
    "        spec_resnet.fc = nn.Sequential(nn.Linear(spec_resnet.fc.in_features,500),\n",
    "                               nn.ReLU(),\n",
    "                               nn.Dropout(), nn.Linear(500,8))\n",
    "        return spec_resnet"
   ]
  },
  {
   "cell_type": "markdown",
   "metadata": {
    "id": "_-mZCUKl841z"
   },
   "source": [
    "### Die Modellstruktur<a class=\"anchor\" id=\"#modellstruktur\"></a>"
   ]
  },
  {
   "cell_type": "code",
   "execution_count": 45,
   "metadata": {
    "colab": {
     "base_uri": "https://localhost:8080/",
     "height": 1000,
     "referenced_widgets": [
      "576a751f7e3b466f9174c24a94de2b01",
      "fb5e9be8e75e4b0b9536f2b40b505e3e",
      "2a350d1fb0a146ad80f1b9c325ee1268",
      "939023d3139541c8b860c914b4bb4c15",
      "e7b2e7f755cc41ae85b136c0d5aa4a99",
      "2eb431a184234802ac34380123266203",
      "fe935448f7204419938428c34e13e62f",
      "684d48149fb1462191088b4fe060286d"
     ]
    },
    "executionInfo": {
     "elapsed": 2048,
     "status": "ok",
     "timestamp": 1619174743956,
     "user": {
      "displayName": "Vladimir Burlay",
      "photoUrl": "https://lh3.googleusercontent.com/a-/AOh14GjNe0ZcJ4bTepfp22ZNsPIl1yT0bxsXS0U9q3e1=s64",
      "userId": "00613275520550369224"
     },
     "user_tz": -120
    },
    "id": "ERLcgfIe8410",
    "outputId": "28a05dd9-aea4-4e76-b0a3-31b0ed365659"
   },
   "outputs": [
    {
     "name": "stderr",
     "output_type": "stream",
     "text": [
      "Downloading: \"https://download.pytorch.org/models/resnet50-19c8e357.pth\" to /root/.cache/torch/hub/checkpoints/resnet50-19c8e357.pth\n"
     ]
    },
    {
     "data": {
      "application/vnd.jupyter.widget-view+json": {
       "model_id": "576a751f7e3b466f9174c24a94de2b01",
       "version_major": 2,
       "version_minor": 0
      },
      "text/plain": [
       "HBox(children=(FloatProgress(value=0.0, max=102502400.0), HTML(value='')))"
      ]
     },
     "metadata": {
      "tags": []
     },
     "output_type": "display_data"
    },
    {
     "name": "stdout",
     "output_type": "stream",
     "text": [
      "\n"
     ]
    },
    {
     "data": {
      "text/plain": [
       "ResNet(\n",
       "  (conv1): Conv2d(3, 64, kernel_size=(7, 7), stride=(2, 2), padding=(3, 3), bias=False)\n",
       "  (bn1): BatchNorm2d(64, eps=1e-05, momentum=0.1, affine=True, track_running_stats=True)\n",
       "  (relu): ReLU(inplace=True)\n",
       "  (maxpool): MaxPool2d(kernel_size=3, stride=2, padding=1, dilation=1, ceil_mode=False)\n",
       "  (layer1): Sequential(\n",
       "    (0): Bottleneck(\n",
       "      (conv1): Conv2d(64, 64, kernel_size=(1, 1), stride=(1, 1), bias=False)\n",
       "      (bn1): BatchNorm2d(64, eps=1e-05, momentum=0.1, affine=True, track_running_stats=True)\n",
       "      (conv2): Conv2d(64, 64, kernel_size=(3, 3), stride=(1, 1), padding=(1, 1), bias=False)\n",
       "      (bn2): BatchNorm2d(64, eps=1e-05, momentum=0.1, affine=True, track_running_stats=True)\n",
       "      (conv3): Conv2d(64, 256, kernel_size=(1, 1), stride=(1, 1), bias=False)\n",
       "      (bn3): BatchNorm2d(256, eps=1e-05, momentum=0.1, affine=True, track_running_stats=True)\n",
       "      (relu): ReLU(inplace=True)\n",
       "      (downsample): Sequential(\n",
       "        (0): Conv2d(64, 256, kernel_size=(1, 1), stride=(1, 1), bias=False)\n",
       "        (1): BatchNorm2d(256, eps=1e-05, momentum=0.1, affine=True, track_running_stats=True)\n",
       "      )\n",
       "    )\n",
       "    (1): Bottleneck(\n",
       "      (conv1): Conv2d(256, 64, kernel_size=(1, 1), stride=(1, 1), bias=False)\n",
       "      (bn1): BatchNorm2d(64, eps=1e-05, momentum=0.1, affine=True, track_running_stats=True)\n",
       "      (conv2): Conv2d(64, 64, kernel_size=(3, 3), stride=(1, 1), padding=(1, 1), bias=False)\n",
       "      (bn2): BatchNorm2d(64, eps=1e-05, momentum=0.1, affine=True, track_running_stats=True)\n",
       "      (conv3): Conv2d(64, 256, kernel_size=(1, 1), stride=(1, 1), bias=False)\n",
       "      (bn3): BatchNorm2d(256, eps=1e-05, momentum=0.1, affine=True, track_running_stats=True)\n",
       "      (relu): ReLU(inplace=True)\n",
       "    )\n",
       "    (2): Bottleneck(\n",
       "      (conv1): Conv2d(256, 64, kernel_size=(1, 1), stride=(1, 1), bias=False)\n",
       "      (bn1): BatchNorm2d(64, eps=1e-05, momentum=0.1, affine=True, track_running_stats=True)\n",
       "      (conv2): Conv2d(64, 64, kernel_size=(3, 3), stride=(1, 1), padding=(1, 1), bias=False)\n",
       "      (bn2): BatchNorm2d(64, eps=1e-05, momentum=0.1, affine=True, track_running_stats=True)\n",
       "      (conv3): Conv2d(64, 256, kernel_size=(1, 1), stride=(1, 1), bias=False)\n",
       "      (bn3): BatchNorm2d(256, eps=1e-05, momentum=0.1, affine=True, track_running_stats=True)\n",
       "      (relu): ReLU(inplace=True)\n",
       "    )\n",
       "  )\n",
       "  (layer2): Sequential(\n",
       "    (0): Bottleneck(\n",
       "      (conv1): Conv2d(256, 128, kernel_size=(1, 1), stride=(1, 1), bias=False)\n",
       "      (bn1): BatchNorm2d(128, eps=1e-05, momentum=0.1, affine=True, track_running_stats=True)\n",
       "      (conv2): Conv2d(128, 128, kernel_size=(3, 3), stride=(2, 2), padding=(1, 1), bias=False)\n",
       "      (bn2): BatchNorm2d(128, eps=1e-05, momentum=0.1, affine=True, track_running_stats=True)\n",
       "      (conv3): Conv2d(128, 512, kernel_size=(1, 1), stride=(1, 1), bias=False)\n",
       "      (bn3): BatchNorm2d(512, eps=1e-05, momentum=0.1, affine=True, track_running_stats=True)\n",
       "      (relu): ReLU(inplace=True)\n",
       "      (downsample): Sequential(\n",
       "        (0): Conv2d(256, 512, kernel_size=(1, 1), stride=(2, 2), bias=False)\n",
       "        (1): BatchNorm2d(512, eps=1e-05, momentum=0.1, affine=True, track_running_stats=True)\n",
       "      )\n",
       "    )\n",
       "    (1): Bottleneck(\n",
       "      (conv1): Conv2d(512, 128, kernel_size=(1, 1), stride=(1, 1), bias=False)\n",
       "      (bn1): BatchNorm2d(128, eps=1e-05, momentum=0.1, affine=True, track_running_stats=True)\n",
       "      (conv2): Conv2d(128, 128, kernel_size=(3, 3), stride=(1, 1), padding=(1, 1), bias=False)\n",
       "      (bn2): BatchNorm2d(128, eps=1e-05, momentum=0.1, affine=True, track_running_stats=True)\n",
       "      (conv3): Conv2d(128, 512, kernel_size=(1, 1), stride=(1, 1), bias=False)\n",
       "      (bn3): BatchNorm2d(512, eps=1e-05, momentum=0.1, affine=True, track_running_stats=True)\n",
       "      (relu): ReLU(inplace=True)\n",
       "    )\n",
       "    (2): Bottleneck(\n",
       "      (conv1): Conv2d(512, 128, kernel_size=(1, 1), stride=(1, 1), bias=False)\n",
       "      (bn1): BatchNorm2d(128, eps=1e-05, momentum=0.1, affine=True, track_running_stats=True)\n",
       "      (conv2): Conv2d(128, 128, kernel_size=(3, 3), stride=(1, 1), padding=(1, 1), bias=False)\n",
       "      (bn2): BatchNorm2d(128, eps=1e-05, momentum=0.1, affine=True, track_running_stats=True)\n",
       "      (conv3): Conv2d(128, 512, kernel_size=(1, 1), stride=(1, 1), bias=False)\n",
       "      (bn3): BatchNorm2d(512, eps=1e-05, momentum=0.1, affine=True, track_running_stats=True)\n",
       "      (relu): ReLU(inplace=True)\n",
       "    )\n",
       "    (3): Bottleneck(\n",
       "      (conv1): Conv2d(512, 128, kernel_size=(1, 1), stride=(1, 1), bias=False)\n",
       "      (bn1): BatchNorm2d(128, eps=1e-05, momentum=0.1, affine=True, track_running_stats=True)\n",
       "      (conv2): Conv2d(128, 128, kernel_size=(3, 3), stride=(1, 1), padding=(1, 1), bias=False)\n",
       "      (bn2): BatchNorm2d(128, eps=1e-05, momentum=0.1, affine=True, track_running_stats=True)\n",
       "      (conv3): Conv2d(128, 512, kernel_size=(1, 1), stride=(1, 1), bias=False)\n",
       "      (bn3): BatchNorm2d(512, eps=1e-05, momentum=0.1, affine=True, track_running_stats=True)\n",
       "      (relu): ReLU(inplace=True)\n",
       "    )\n",
       "  )\n",
       "  (layer3): Sequential(\n",
       "    (0): Bottleneck(\n",
       "      (conv1): Conv2d(512, 256, kernel_size=(1, 1), stride=(1, 1), bias=False)\n",
       "      (bn1): BatchNorm2d(256, eps=1e-05, momentum=0.1, affine=True, track_running_stats=True)\n",
       "      (conv2): Conv2d(256, 256, kernel_size=(3, 3), stride=(2, 2), padding=(1, 1), bias=False)\n",
       "      (bn2): BatchNorm2d(256, eps=1e-05, momentum=0.1, affine=True, track_running_stats=True)\n",
       "      (conv3): Conv2d(256, 1024, kernel_size=(1, 1), stride=(1, 1), bias=False)\n",
       "      (bn3): BatchNorm2d(1024, eps=1e-05, momentum=0.1, affine=True, track_running_stats=True)\n",
       "      (relu): ReLU(inplace=True)\n",
       "      (downsample): Sequential(\n",
       "        (0): Conv2d(512, 1024, kernel_size=(1, 1), stride=(2, 2), bias=False)\n",
       "        (1): BatchNorm2d(1024, eps=1e-05, momentum=0.1, affine=True, track_running_stats=True)\n",
       "      )\n",
       "    )\n",
       "    (1): Bottleneck(\n",
       "      (conv1): Conv2d(1024, 256, kernel_size=(1, 1), stride=(1, 1), bias=False)\n",
       "      (bn1): BatchNorm2d(256, eps=1e-05, momentum=0.1, affine=True, track_running_stats=True)\n",
       "      (conv2): Conv2d(256, 256, kernel_size=(3, 3), stride=(1, 1), padding=(1, 1), bias=False)\n",
       "      (bn2): BatchNorm2d(256, eps=1e-05, momentum=0.1, affine=True, track_running_stats=True)\n",
       "      (conv3): Conv2d(256, 1024, kernel_size=(1, 1), stride=(1, 1), bias=False)\n",
       "      (bn3): BatchNorm2d(1024, eps=1e-05, momentum=0.1, affine=True, track_running_stats=True)\n",
       "      (relu): ReLU(inplace=True)\n",
       "    )\n",
       "    (2): Bottleneck(\n",
       "      (conv1): Conv2d(1024, 256, kernel_size=(1, 1), stride=(1, 1), bias=False)\n",
       "      (bn1): BatchNorm2d(256, eps=1e-05, momentum=0.1, affine=True, track_running_stats=True)\n",
       "      (conv2): Conv2d(256, 256, kernel_size=(3, 3), stride=(1, 1), padding=(1, 1), bias=False)\n",
       "      (bn2): BatchNorm2d(256, eps=1e-05, momentum=0.1, affine=True, track_running_stats=True)\n",
       "      (conv3): Conv2d(256, 1024, kernel_size=(1, 1), stride=(1, 1), bias=False)\n",
       "      (bn3): BatchNorm2d(1024, eps=1e-05, momentum=0.1, affine=True, track_running_stats=True)\n",
       "      (relu): ReLU(inplace=True)\n",
       "    )\n",
       "    (3): Bottleneck(\n",
       "      (conv1): Conv2d(1024, 256, kernel_size=(1, 1), stride=(1, 1), bias=False)\n",
       "      (bn1): BatchNorm2d(256, eps=1e-05, momentum=0.1, affine=True, track_running_stats=True)\n",
       "      (conv2): Conv2d(256, 256, kernel_size=(3, 3), stride=(1, 1), padding=(1, 1), bias=False)\n",
       "      (bn2): BatchNorm2d(256, eps=1e-05, momentum=0.1, affine=True, track_running_stats=True)\n",
       "      (conv3): Conv2d(256, 1024, kernel_size=(1, 1), stride=(1, 1), bias=False)\n",
       "      (bn3): BatchNorm2d(1024, eps=1e-05, momentum=0.1, affine=True, track_running_stats=True)\n",
       "      (relu): ReLU(inplace=True)\n",
       "    )\n",
       "    (4): Bottleneck(\n",
       "      (conv1): Conv2d(1024, 256, kernel_size=(1, 1), stride=(1, 1), bias=False)\n",
       "      (bn1): BatchNorm2d(256, eps=1e-05, momentum=0.1, affine=True, track_running_stats=True)\n",
       "      (conv2): Conv2d(256, 256, kernel_size=(3, 3), stride=(1, 1), padding=(1, 1), bias=False)\n",
       "      (bn2): BatchNorm2d(256, eps=1e-05, momentum=0.1, affine=True, track_running_stats=True)\n",
       "      (conv3): Conv2d(256, 1024, kernel_size=(1, 1), stride=(1, 1), bias=False)\n",
       "      (bn3): BatchNorm2d(1024, eps=1e-05, momentum=0.1, affine=True, track_running_stats=True)\n",
       "      (relu): ReLU(inplace=True)\n",
       "    )\n",
       "    (5): Bottleneck(\n",
       "      (conv1): Conv2d(1024, 256, kernel_size=(1, 1), stride=(1, 1), bias=False)\n",
       "      (bn1): BatchNorm2d(256, eps=1e-05, momentum=0.1, affine=True, track_running_stats=True)\n",
       "      (conv2): Conv2d(256, 256, kernel_size=(3, 3), stride=(1, 1), padding=(1, 1), bias=False)\n",
       "      (bn2): BatchNorm2d(256, eps=1e-05, momentum=0.1, affine=True, track_running_stats=True)\n",
       "      (conv3): Conv2d(256, 1024, kernel_size=(1, 1), stride=(1, 1), bias=False)\n",
       "      (bn3): BatchNorm2d(1024, eps=1e-05, momentum=0.1, affine=True, track_running_stats=True)\n",
       "      (relu): ReLU(inplace=True)\n",
       "    )\n",
       "  )\n",
       "  (layer4): Sequential(\n",
       "    (0): Bottleneck(\n",
       "      (conv1): Conv2d(1024, 512, kernel_size=(1, 1), stride=(1, 1), bias=False)\n",
       "      (bn1): BatchNorm2d(512, eps=1e-05, momentum=0.1, affine=True, track_running_stats=True)\n",
       "      (conv2): Conv2d(512, 512, kernel_size=(3, 3), stride=(2, 2), padding=(1, 1), bias=False)\n",
       "      (bn2): BatchNorm2d(512, eps=1e-05, momentum=0.1, affine=True, track_running_stats=True)\n",
       "      (conv3): Conv2d(512, 2048, kernel_size=(1, 1), stride=(1, 1), bias=False)\n",
       "      (bn3): BatchNorm2d(2048, eps=1e-05, momentum=0.1, affine=True, track_running_stats=True)\n",
       "      (relu): ReLU(inplace=True)\n",
       "      (downsample): Sequential(\n",
       "        (0): Conv2d(1024, 2048, kernel_size=(1, 1), stride=(2, 2), bias=False)\n",
       "        (1): BatchNorm2d(2048, eps=1e-05, momentum=0.1, affine=True, track_running_stats=True)\n",
       "      )\n",
       "    )\n",
       "    (1): Bottleneck(\n",
       "      (conv1): Conv2d(2048, 512, kernel_size=(1, 1), stride=(1, 1), bias=False)\n",
       "      (bn1): BatchNorm2d(512, eps=1e-05, momentum=0.1, affine=True, track_running_stats=True)\n",
       "      (conv2): Conv2d(512, 512, kernel_size=(3, 3), stride=(1, 1), padding=(1, 1), bias=False)\n",
       "      (bn2): BatchNorm2d(512, eps=1e-05, momentum=0.1, affine=True, track_running_stats=True)\n",
       "      (conv3): Conv2d(512, 2048, kernel_size=(1, 1), stride=(1, 1), bias=False)\n",
       "      (bn3): BatchNorm2d(2048, eps=1e-05, momentum=0.1, affine=True, track_running_stats=True)\n",
       "      (relu): ReLU(inplace=True)\n",
       "    )\n",
       "    (2): Bottleneck(\n",
       "      (conv1): Conv2d(2048, 512, kernel_size=(1, 1), stride=(1, 1), bias=False)\n",
       "      (bn1): BatchNorm2d(512, eps=1e-05, momentum=0.1, affine=True, track_running_stats=True)\n",
       "      (conv2): Conv2d(512, 512, kernel_size=(3, 3), stride=(1, 1), padding=(1, 1), bias=False)\n",
       "      (bn2): BatchNorm2d(512, eps=1e-05, momentum=0.1, affine=True, track_running_stats=True)\n",
       "      (conv3): Conv2d(512, 2048, kernel_size=(1, 1), stride=(1, 1), bias=False)\n",
       "      (bn3): BatchNorm2d(2048, eps=1e-05, momentum=0.1, affine=True, track_running_stats=True)\n",
       "      (relu): ReLU(inplace=True)\n",
       "    )\n",
       "  )\n",
       "  (avgpool): AdaptiveAvgPool2d(output_size=(1, 1))\n",
       "  (fc): Sequential(\n",
       "    (0): Linear(in_features=2048, out_features=500, bias=True)\n",
       "    (1): ReLU()\n",
       "    (2): Dropout(p=0.5, inplace=False)\n",
       "    (3): Linear(in_features=500, out_features=8, bias=True)\n",
       "  )\n",
       ")"
      ]
     },
     "execution_count": 45,
     "metadata": {
      "tags": []
     },
     "output_type": "execute_result"
    }
   ],
   "source": [
    "device = \"cpu\"\n",
    "spec_resnet = model_res()\n",
    "spec_resnet.to(device)"
   ]
  },
  {
   "cell_type": "code",
   "execution_count": 46,
   "metadata": {
    "colab": {
     "base_uri": "https://localhost:8080/",
     "height": 297
    },
    "executionInfo": {
     "elapsed": 754781,
     "status": "ok",
     "timestamp": 1619175505957,
     "user": {
      "displayName": "Vladimir Burlay",
      "photoUrl": "https://lh3.googleusercontent.com/a-/AOh14GjNe0ZcJ4bTepfp22ZNsPIl1yT0bxsXS0U9q3e1=s64",
      "userId": "00613275520550369224"
     },
     "user_tz": -120
    },
    "id": "fMiQhKFW8410",
    "outputId": "4fa221f9-c067-41d7-c437-d2804b3dbd97"
   },
   "outputs": [
    {
     "data": {
      "text/plain": [
       "Text(0.5, 0, 'Lernrate')"
      ]
     },
     "execution_count": 46,
     "metadata": {
      "tags": []
     },
     "output_type": "execute_result"
    },
    {
     "data": {
      "image/png": "[encoded data removed]",
      "text/plain": [
       "<Figure size 432x288 with 1 Axes>"
      ]
     },
     "metadata": {
      "needs_background": "light",
      "tags": []
     },
     "output_type": "display_data"
    }
   ],
   "source": [
    "#Die Lernrate \n",
    "spec_resnet.to(device) \n",
    "torch.save(spec_resnet.state_dict(), \"spec_resnet_temp.pth\")\n",
    "loss_fn = nn.CrossEntropyLoss()\n",
    "optimizer = optim.Adam(spec_resnet.parameters(), lr=0.001)\n",
    "logs,losses = find_lr(spec_resnet, loss_fn, optimizer, ravdess_train_loader, device=device)\n",
    "plt.plot(logs, losses)\n",
    "plt.ylabel('Verlust')\n",
    "plt.xlabel('Lernrate')"
   ]
  },
  {
   "cell_type": "markdown",
   "metadata": {
    "id": "6st2j-e18410"
   },
   "source": [
    "### Modell-Training<a class=\"anchor\" id=\"#modelltraining\"></a>"
   ]
  },
  {
   "cell_type": "code",
   "execution_count": 47,
   "metadata": {
    "colab": {
     "base_uri": "https://localhost:8080/"
    },
    "executionInfo": {
     "elapsed": 17638996,
     "status": "ok",
     "timestamp": 1619194202934,
     "user": {
      "displayName": "Vladimir Burlay",
      "photoUrl": "https://lh3.googleusercontent.com/a-/AOh14GjNe0ZcJ4bTepfp22ZNsPIl1yT0bxsXS0U9q3e1=s64",
      "userId": "00613275520550369224"
     },
     "user_tz": -120
    },
    "id": "SrQtwTDR8411",
    "outputId": "3ed08b25-c412-4c78-eed5-818272e97f2b"
   },
   "outputs": [
    {
     "name": "stdout",
     "output_type": "stream",
     "text": [
      "Epoch: 1, Training Loss: 1.90, Validation Loss: 13.95, accuracy = 0.15\n",
      "Epoch: 2, Training Loss: 1.48, Validation Loss: 5.66, accuracy = 0.38\n",
      "Epoch: 3, Training Loss: 1.18, Validation Loss: 2.39, accuracy = 0.37\n",
      "Epoch: 4, Training Loss: 1.05, Validation Loss: 2.05, accuracy = 0.46\n",
      "Epoch: 5, Training Loss: 0.95, Validation Loss: 5.68, accuracy = 0.31\n",
      "Epoch: 1, Training Loss: 0.66, Validation Loss: 1.28, accuracy = 0.58\n",
      "Epoch: 2, Training Loss: 0.47, Validation Loss: 1.19, accuracy = 0.57\n",
      "Epoch: 3, Training Loss: 0.34, Validation Loss: 1.02, accuracy = 0.63\n",
      "Epoch: 4, Training Loss: 0.28, Validation Loss: 1.47, accuracy = 0.54\n",
      "Epoch: 5, Training Loss: 0.23, Validation Loss: 1.24, accuracy = 0.60\n",
      "Epoch: 6, Training Loss: 0.19, Validation Loss: 1.09, accuracy = 0.65\n",
      "Epoch: 7, Training Loss: 0.16, Validation Loss: 1.40, accuracy = 0.57\n",
      "Epoch: 8, Training Loss: 0.11, Validation Loss: 1.22, accuracy = 0.64\n",
      "Epoch: 9, Training Loss: 0.08, Validation Loss: 1.83, accuracy = 0.52\n",
      "Epoch: 10, Training Loss: 0.06, Validation Loss: 1.25, accuracy = 0.61\n",
      "Epoch: 11, Training Loss: 0.05, Validation Loss: 1.13, accuracy = 0.65\n",
      "Epoch: 12, Training Loss: 0.05, Validation Loss: 1.42, accuracy = 0.61\n",
      "Epoch: 13, Training Loss: 0.06, Validation Loss: 3.52, accuracy = 0.37\n",
      "Epoch: 14, Training Loss: 0.05, Validation Loss: 1.24, accuracy = 0.68\n",
      "Epoch: 15, Training Loss: 0.06, Validation Loss: 1.88, accuracy = 0.53\n",
      "Epoch: 16, Training Loss: 0.09, Validation Loss: 1.72, accuracy = 0.55\n",
      "Epoch: 17, Training Loss: 0.06, Validation Loss: 1.31, accuracy = 0.62\n",
      "Epoch: 18, Training Loss: 0.04, Validation Loss: 1.45, accuracy = 0.64\n",
      "Epoch: 19, Training Loss: 0.03, Validation Loss: 1.68, accuracy = 0.59\n",
      "Epoch: 20, Training Loss: 0.04, Validation Loss: 2.20, accuracy = 0.54\n"
     ]
    }
   ],
   "source": [
    "spec_resnet.load_state_dict(torch.load(\"spec_resnet_temp.pth\"))\n",
    "\n",
    "optimizer = optim.Adam(spec_resnet.parameters(), lr=1e-3)\n",
    "train(spec_resnet, optimizer, nn.CrossEntropyLoss(), ravdess_train_loader, ravdess_valid_loader, epochs = 5, device=device)\n",
    "\n",
    "for param in spec_resnet.parameters():\n",
    "    param.requires_grad = True\n",
    "optimizer = optim.Adam([\n",
    "                        {'params': spec_resnet.conv1.parameters()},\n",
    "                        {'params': spec_resnet.bn1.parameters()},\n",
    "                        {'params': spec_resnet.relu.parameters()},\n",
    "                        {'params': spec_resnet.maxpool.parameters()},\n",
    "                        {'params': spec_resnet.layer1.parameters(), 'lr': 1e-4},\n",
    "                        {'params': spec_resnet.layer2.parameters(), 'lr': 1e-4},\n",
    "                        {'params': spec_resnet.layer3.parameters(), 'lr': 1e-4},\n",
    "                        {'params': spec_resnet.layer4.parameters(), 'lr': 1e-4},\n",
    "                        {'params': spec_resnet.avgpool.parameters(), 'lr': 1e-4},\n",
    "                        {'params': spec_resnet.fc.parameters(), 'lr': 1e-4}\n",
    "                        ], lr=1e-3)\n",
    "train(spec_resnet, optimizer, nn.CrossEntropyLoss(), ravdess_train_loader, ravdess_valid_loader,  device=device)\n",
    "torch.save(spec_resnet.state_dict(),\"spec_resnet_temp.pth\")"
   ]
  },
  {
   "cell_type": "markdown",
   "metadata": {
    "id": "xy4uxr9_8411"
   },
   "source": [
    "#### Die Genauigkeit des Modells<a class=\"anchor\" id=\"Genauigkeit\"></a>"
   ]
  },
  {
   "cell_type": "code",
   "execution_count": 49,
   "metadata": {
    "executionInfo": {
     "elapsed": 535,
     "status": "ok",
     "timestamp": 1619194831958,
     "user": {
      "displayName": "Vladimir Burlay",
      "photoUrl": "https://lh3.googleusercontent.com/a-/AOh14GjNe0ZcJ4bTepfp22ZNsPIl1yT0bxsXS0U9q3e1=s64",
      "userId": "00613275520550369224"
     },
     "user_tz": -120
    },
    "id": "r3AgSVO58412"
   },
   "outputs": [],
   "source": [
    "def prep(loader,model):\n",
    "    correct = 0\n",
    "    total = 0\n",
    "    with torch.no_grad():\n",
    "    \n",
    "    # Iterate over the test set\n",
    "        for data in loader:\n",
    "            images, labels = data\n",
    "\n",
    "            images = images.to(device)\n",
    "            labels = labels.to(device)\n",
    "        \n",
    "            outputs = model(images)\n",
    "        \n",
    "        # torch.max is an argmax operation\n",
    "            _, predicted = torch.max(outputs.data, 1)\n",
    "        \n",
    "            total += labels.size(0)\n",
    "            correct += (predicted == labels).sum().item()\n",
    "\n",
    "\n",
    "    print('Die Genauigkeit: %d %%' % (100 * correct / total))"
   ]
  },
  {
   "cell_type": "code",
   "execution_count": 50,
   "metadata": {
    "colab": {
     "base_uri": "https://localhost:8080/"
    },
    "executionInfo": {
     "elapsed": 182777,
     "status": "ok",
     "timestamp": 1619195021793,
     "user": {
      "displayName": "Vladimir Burlay",
      "photoUrl": "https://lh3.googleusercontent.com/a-/AOh14GjNe0ZcJ4bTepfp22ZNsPIl1yT0bxsXS0U9q3e1=s64",
      "userId": "00613275520550369224"
     },
     "user_tz": -120
    },
    "id": "D081h9Mv8412",
    "outputId": "fe9fdb66-4d83-43b8-97eb-b29eb3e6b20d"
   },
   "outputs": [
    {
     "name": "stdout",
     "output_type": "stream",
     "text": [
      "Die Genauigkeit: 99 %\n"
     ]
    }
   ],
   "source": [
    "# Trainigsdaten\n",
    "prep(ravdess_train_loader,spec_resnet)"
   ]
  },
  {
   "cell_type": "code",
   "execution_count": 51,
   "metadata": {
    "colab": {
     "base_uri": "https://localhost:8080/"
    },
    "executionInfo": {
     "elapsed": 48342,
     "status": "ok",
     "timestamp": 1619195109049,
     "user": {
      "displayName": "Vladimir Burlay",
      "photoUrl": "https://lh3.googleusercontent.com/a-/AOh14GjNe0ZcJ4bTepfp22ZNsPIl1yT0bxsXS0U9q3e1=s64",
      "userId": "00613275520550369224"
     },
     "user_tz": -120
    },
    "id": "Wwktatr78412",
    "outputId": "cc749ed1-e31e-4a64-a90a-c49c2b763d9a"
   },
   "outputs": [
    {
     "name": "stdout",
     "output_type": "stream",
     "text": [
      "Die Genauigkeit: 53 %\n"
     ]
    }
   ],
   "source": [
    "# Validierungssdaten\n",
    "prep(ravdess_valid_loader,spec_resnet)"
   ]
  },
  {
   "cell_type": "code",
   "execution_count": 86,
   "metadata": {
    "executionInfo": {
     "elapsed": 1020,
     "status": "ok",
     "timestamp": 1619198867412,
     "user": {
      "displayName": "Vladimir Burlay",
      "photoUrl": "https://lh3.googleusercontent.com/a-/AOh14GjNe0ZcJ4bTepfp22ZNsPIl1yT0bxsXS0U9q3e1=s64",
      "userId": "00613275520550369224"
     },
     "user_tz": -120
    },
    "id": "UTkS0-TCl54m"
   },
   "outputs": [],
   "source": [
    "torch.save(spec_resnet.state_dict(),path_model)"
   ]
  },
  {
   "cell_type": "markdown",
   "metadata": {
    "id": "A_aElI758413"
   },
   "source": [
    "#### Metrics"
   ]
  },
  {
   "cell_type": "code",
   "execution_count": 52,
   "metadata": {
    "executionInfo": {
     "elapsed": 517,
     "status": "ok",
     "timestamp": 1619195128451,
     "user": {
      "displayName": "Vladimir Burlay",
      "photoUrl": "https://lh3.googleusercontent.com/a-/AOh14GjNe0ZcJ4bTepfp22ZNsPIl1yT0bxsXS0U9q3e1=s64",
      "userId": "00613275520550369224"
     },
     "user_tz": -120
    },
    "id": "zzJp_9BH8413"
   },
   "outputs": [],
   "source": [
    "def plot_confusion_matrix(cm, classes,\n",
    "                          normalize=False,\n",
    "                          title='Confusion matrix',\n",
    "                          cmap=plt.cm.Blues):\n",
    "    \"\"\"\n",
    "    This function prints and plots the confusion matrix.\n",
    "    Normalization can be applied by setting `normalize=True`.\n",
    "    \"\"\"\n",
    "    plt.imshow(cm, interpolation='nearest', cmap=cmap)\n",
    "    plt.title(title)\n",
    "    plt.colorbar()\n",
    "    tick_marks = np.arange(len(classes))\n",
    "    plt.xticks(tick_marks, classes, rotation=45)\n",
    "    plt.yticks(tick_marks, classes)\n",
    "\n",
    "    if normalize:\n",
    "  #      cm = cm.astype('float') / cm.sum(axis=1)[:, np.newaxis]\n",
    "        print(\"Normalized confusion matrix\")\n",
    "    else:\n",
    "        print('Confusion matrix, without normalization')\n",
    "\n",
    " #   print(cm)\n",
    "    thresh = cm.max() / 2.\n",
    "    for i, j in itertools.product(range(cm.shape[0]), range(cm.shape[1])):\n",
    "        plt.text(j, i, cm[i, j],\n",
    "                 horizontalalignment=\"center\",\n",
    "                 color=\"white\" if cm[i, j] > thresh else \"black\")\n",
    "\n",
    "\n",
    "    plt.tight_layout()\n",
    "    plt.ylabel('True label')\n",
    "    plt.xlabel('Predicted label')"
   ]
  },
  {
   "cell_type": "code",
   "execution_count": 77,
   "metadata": {
    "colab": {
     "base_uri": "https://localhost:8080/"
    },
    "executionInfo": {
     "elapsed": 1864,
     "status": "ok",
     "timestamp": 1619196722452,
     "user": {
      "displayName": "Vladimir Burlay",
      "photoUrl": "https://lh3.googleusercontent.com/a-/AOh14GjNe0ZcJ4bTepfp22ZNsPIl1yT0bxsXS0U9q3e1=s64",
      "userId": "00613275520550369224"
     },
     "user_tz": -120
    },
    "id": "5QbsOFS78413",
    "outputId": "c1b10e96-4c4d-4e3e-d29b-eb990e30b344"
   },
   "outputs": [
    {
     "data": {
      "text/plain": [
       "<All keys matched successfully>"
      ]
     },
     "execution_count": 77,
     "metadata": {
      "tags": []
     },
     "output_type": "execute_result"
    }
   ],
   "source": [
    "spec_resnet_prod = model_res()\n",
    "spec_resnet_prod.load_state_dict(torch.load(path_model))  "
   ]
  },
  {
   "cell_type": "code",
   "execution_count": 87,
   "metadata": {
    "executionInfo": {
     "elapsed": 466,
     "status": "ok",
     "timestamp": 1619199198739,
     "user": {
      "displayName": "Vladimir Burlay",
      "photoUrl": "https://lh3.googleusercontent.com/a-/AOh14GjNe0ZcJ4bTepfp22ZNsPIl1yT0bxsXS0U9q3e1=s64",
      "userId": "00613275520550369224"
     },
     "user_tz": -120
    },
    "id": "h_LXbOKn8413"
   },
   "outputs": [],
   "source": [
    "ravdess_train, ravdess_test, ravdess_valid = LoadRavdess(1000)"
   ]
  },
  {
   "cell_type": "code",
   "execution_count": 89,
   "metadata": {
    "colab": {
     "base_uri": "https://localhost:8080/"
    },
    "executionInfo": {
     "elapsed": 17448,
     "status": "ok",
     "timestamp": 1619199414669,
     "user": {
      "displayName": "Vladimir Burlay",
      "photoUrl": "https://lh3.googleusercontent.com/a-/AOh14GjNe0ZcJ4bTepfp22ZNsPIl1yT0bxsXS0U9q3e1=s64",
      "userId": "00613275520550369224"
     },
     "user_tz": -120
    },
    "id": "wyPsZCBp8414",
    "outputId": "15fedd15-7ce4-445c-dab1-c2b347f52cda"
   },
   "outputs": [
    {
     "data": {
      "text/plain": [
       "(torch.Size([918]),\n",
       " torch.Size([918]),\n",
       " torch.Size([279]),\n",
       " torch.Size([279]),\n",
       " torch.Size([243]),\n",
       " torch.Size([243]))"
      ]
     },
     "execution_count": 89,
     "metadata": {
      "tags": []
     },
     "output_type": "execute_result"
    }
   ],
   "source": [
    "img_train, label_train = next(iter(ravdess_train))\n",
    "img_test, label_test = next(iter(ravdess_test))\n",
    "img_valid, label_valid = next(iter(ravdess_valid))\n",
    "label_train.shape,label_train.shape,label_test.shape,label_test.shape,label_valid.shape,label_valid.shape"
   ]
  },
  {
   "cell_type": "code",
   "execution_count": 80,
   "metadata": {
    "executionInfo": {
     "elapsed": 480,
     "status": "ok",
     "timestamp": 1619196819203,
     "user": {
      "displayName": "Vladimir Burlay",
      "photoUrl": "https://lh3.googleusercontent.com/a-/AOh14GjNe0ZcJ4bTepfp22ZNsPIl1yT0bxsXS0U9q3e1=s64",
      "userId": "00613275520550369224"
     },
     "user_tz": -120
    },
    "id": "0QZguwDb8414"
   },
   "outputs": [],
   "source": [
    "def transform(loader,model):\n",
    "    device = \"cpu\"\n",
    "    with torch.no_grad():\n",
    "        \n",
    "        for data in loader:\n",
    "            images, labels = data\n",
    "\n",
    "            images = images.to(device)\n",
    "            labels = labels.to(device)\n",
    "        \n",
    "            outputs = model(images)\n",
    "        \n",
    "            # torch.max is an argmax operation\n",
    "            _, predicted = torch.max(outputs.data, 1)\n",
    "            \n",
    "         \n",
    "            return labels,predicted\n"
   ]
  },
  {
   "cell_type": "markdown",
   "metadata": {
    "id": "jhr9CQoj8414"
   },
   "source": [
    "### Trainingsdaten"
   ]
  },
  {
   "cell_type": "markdown",
   "metadata": {
    "id": "F6mejJeJ8415"
   },
   "source": [
    "### Confusion Matrix (Trainingsdaten)"
   ]
  },
  {
   "cell_type": "code",
   "execution_count": 84,
   "metadata": {
    "executionInfo": {
     "elapsed": 256348,
     "status": "ok",
     "timestamp": 1619198565276,
     "user": {
      "displayName": "Vladimir Burlay",
      "photoUrl": "https://lh3.googleusercontent.com/a-/AOh14GjNe0ZcJ4bTepfp22ZNsPIl1yT0bxsXS0U9q3e1=s64",
      "userId": "00613275520550369224"
     },
     "user_tz": -120
    },
    "id": "CPvx0bkztThz"
   },
   "outputs": [],
   "source": [
    "labels_train, predicted_train = transform(ravdess_train,spec_resnet_prod)"
   ]
  },
  {
   "cell_type": "code",
   "execution_count": 85,
   "metadata": {
    "colab": {
     "base_uri": "https://localhost:8080/",
     "height": 583
    },
    "executionInfo": {
     "elapsed": 1586,
     "status": "ok",
     "timestamp": 1619198612379,
     "user": {
      "displayName": "Vladimir Burlay",
      "photoUrl": "https://lh3.googleusercontent.com/a-/AOh14GjNe0ZcJ4bTepfp22ZNsPIl1yT0bxsXS0U9q3e1=s64",
      "userId": "00613275520550369224"
     },
     "user_tz": -120
    },
    "id": "zmiQznCp8415",
    "outputId": "07e8b6da-a6a5-4d92-b4f6-0fafa4a50cdb"
   },
   "outputs": [
    {
     "name": "stdout",
     "output_type": "stream",
     "text": [
      "              precision    recall  f1-score   support\n",
      "\n",
      "           0       1.00      1.00      1.00       123\n",
      "           1       1.00      1.00      1.00        64\n",
      "           2       1.00      1.00      1.00       118\n",
      "           3       1.00      1.00      1.00       125\n",
      "           4       1.00      1.00      1.00       121\n",
      "           5       1.00      1.00      1.00       124\n",
      "           6       1.00      1.00      1.00       121\n",
      "           7       1.00      1.00      1.00       122\n",
      "\n",
      "    accuracy                           1.00       918\n",
      "   macro avg       1.00      1.00      1.00       918\n",
      "weighted avg       1.00      1.00      1.00       918\n",
      "\n",
      "Confusion matrix, without normalization\n"
     ]
    },
    {
     "data": {
      "image/png": "[encoded data removed]",
      "text/plain": [
       "<Figure size 432x288 with 2 Axes>"
      ]
     },
     "metadata": {
      "needs_background": "light",
      "tags": []
     },
     "output_type": "display_data"
    }
   ],
   "source": [
    "plt.figure()\n",
    "print(classification_report(labels_train, predicted_train))\n",
    "plot_confusion_matrix(confusion_matrix(labels_train, predicted_train), classes=class_names)\n",
    "plt.show()"
   ]
  },
  {
   "cell_type": "code",
   "execution_count": null,
   "metadata": {
    "id": "keklec_kzBi8"
   },
   "outputs": [],
   "source": [
    "### Validationsdaten"
   ]
  },
  {
   "cell_type": "code",
   "execution_count": 90,
   "metadata": {
    "executionInfo": {
     "elapsed": 61986,
     "status": "ok",
     "timestamp": 1619199576011,
     "user": {
      "displayName": "Vladimir Burlay",
      "photoUrl": "https://lh3.googleusercontent.com/a-/AOh14GjNe0ZcJ4bTepfp22ZNsPIl1yT0bxsXS0U9q3e1=s64",
      "userId": "00613275520550369224"
     },
     "user_tz": -120
    },
    "id": "rPHymuIwzDHp"
   },
   "outputs": [],
   "source": [
    "labels_valid, predicted_valid = transform(ravdess_valid,spec_resnet_prod)"
   ]
  },
  {
   "cell_type": "code",
   "execution_count": 91,
   "metadata": {
    "colab": {
     "base_uri": "https://localhost:8080/",
     "height": 583
    },
    "executionInfo": {
     "elapsed": 1437,
     "status": "ok",
     "timestamp": 1619199608234,
     "user": {
      "displayName": "Vladimir Burlay",
      "photoUrl": "https://lh3.googleusercontent.com/a-/AOh14GjNe0ZcJ4bTepfp22ZNsPIl1yT0bxsXS0U9q3e1=s64",
      "userId": "00613275520550369224"
     },
     "user_tz": -120
    },
    "id": "zPMD27VIz2T4",
    "outputId": "f5cff07d-ad29-4c18-d59c-90125638cdc5"
   },
   "outputs": [
    {
     "name": "stdout",
     "output_type": "stream",
     "text": [
      "              precision    recall  f1-score   support\n",
      "\n",
      "           0       0.74      0.74      0.74        31\n",
      "           1       0.44      0.44      0.44        16\n",
      "           2       0.73      0.77      0.75        31\n",
      "           3       0.76      0.78      0.77        32\n",
      "           4       0.47      0.61      0.53        33\n",
      "           5       0.83      0.74      0.78        34\n",
      "           6       0.68      0.58      0.62        33\n",
      "           7       0.72      0.64      0.68        33\n",
      "\n",
      "    accuracy                           0.67       243\n",
      "   macro avg       0.67      0.66      0.66       243\n",
      "weighted avg       0.69      0.67      0.68       243\n",
      "\n",
      "Confusion matrix, without normalization\n"
     ]
    },
    {
     "data": {
      "image/png": "[encoded data removed]",
      "text/plain": [
       "<Figure size 432x288 with 2 Axes>"
      ]
     },
     "metadata": {
      "needs_background": "light",
      "tags": []
     },
     "output_type": "display_data"
    }
   ],
   "source": [
    "plt.figure()\n",
    "print(classification_report(labels_valid, predicted_valid))\n",
    "plot_confusion_matrix(confusion_matrix(labels_valid, predicted_valid), classes=class_names)\n",
    "plt.show()"
   ]
  },
  {
   "cell_type": "markdown",
   "metadata": {
    "id": "dOKlQ1Ah8416"
   },
   "source": [
    "### Test Daten"
   ]
  },
  {
   "cell_type": "code",
   "execution_count": 81,
   "metadata": {
    "executionInfo": {
     "elapsed": 72628,
     "status": "ok",
     "timestamp": 1619197000535,
     "user": {
      "displayName": "Vladimir Burlay",
      "photoUrl": "https://lh3.googleusercontent.com/a-/AOh14GjNe0ZcJ4bTepfp22ZNsPIl1yT0bxsXS0U9q3e1=s64",
      "userId": "00613275520550369224"
     },
     "user_tz": -120
    },
    "id": "oKy3wCg8pvIL"
   },
   "outputs": [],
   "source": [
    "labels_test, predicted_test = transform(ravdess_test,spec_resnet_prod)"
   ]
  },
  {
   "cell_type": "markdown",
   "metadata": {
    "id": "Hljxsv_B8416"
   },
   "source": [
    "### Confusion Matrix (TestDaten)"
   ]
  },
  {
   "cell_type": "code",
   "execution_count": 82,
   "metadata": {
    "colab": {
     "base_uri": "https://localhost:8080/",
     "height": 583
    },
    "executionInfo": {
     "elapsed": 1788,
     "status": "ok",
     "timestamp": 1619197687917,
     "user": {
      "displayName": "Vladimir Burlay",
      "photoUrl": "https://lh3.googleusercontent.com/a-/AOh14GjNe0ZcJ4bTepfp22ZNsPIl1yT0bxsXS0U9q3e1=s64",
      "userId": "00613275520550369224"
     },
     "user_tz": -120
    },
    "id": "N4cT9wc98417",
    "outputId": "28ff5b77-1cf8-4a9a-f7eb-69e5f031b9ec"
   },
   "outputs": [
    {
     "name": "stdout",
     "output_type": "stream",
     "text": [
      "              precision    recall  f1-score   support\n",
      "\n",
      "           0       0.91      0.79      0.85        38\n",
      "           1       0.75      0.56      0.64        16\n",
      "           2       0.89      0.77      0.82        43\n",
      "           3       0.55      0.66      0.60        35\n",
      "           4       0.62      0.68      0.65        38\n",
      "           5       0.66      0.74      0.69        34\n",
      "           6       0.81      0.79      0.80        38\n",
      "           7       0.76      0.78      0.77        37\n",
      "\n",
      "    accuracy                           0.73       279\n",
      "   macro avg       0.74      0.72      0.73       279\n",
      "weighted avg       0.75      0.73      0.74       279\n",
      "\n",
      "Confusion matrix, without normalization\n"
     ]
    },
    {
     "data": {
      "image/png": "[encoded data removed]",
      "text/plain": [
       "<Figure size 432x288 with 2 Axes>"
      ]
     },
     "metadata": {
      "needs_background": "light",
      "tags": []
     },
     "output_type": "display_data"
    }
   ],
   "source": [
    "plt.figure()\n",
    "print(classification_report(labels_test, predicted_test))\n",
    "plot_confusion_matrix(confusion_matrix(labels_test, predicted_test), classes=class_names)\n",
    "plt.show()"
   ]
  }
 ],
 "metadata": {
  "colab": {
   "name": "Pytorch-ResNet50(Ravdess-Frequenzbereich)-Vortreniertesmodell.ipynb",
   "provenance": []
  },
  "kernelspec": {
   "display_name": "Python 3",
   "language": "python",
   "name": "python3"
  },
  "language_info": {
   "codemirror_mode": {
    "name": "ipython",
    "version": 3
   },
   "file_extension": ".py",
   "mimetype": "text/x-python",
   "name": "python",
   "nbconvert_exporter": "python",
   "pygments_lexer": "ipython3",
   "version": "3.8.7"
  },
  "widgets": {
   "application/vnd.jupyter.widget-state+json": {
    "2a350d1fb0a146ad80f1b9c325ee1268": {
     "model_module": "@jupyter-widgets/controls",
     "model_name": "FloatProgressModel",
     "state": {
      "_dom_classes": [],
      "_model_module": "@jupyter-widgets/controls",
      "_model_module_version": "1.5.0",
      "_model_name": "FloatProgressModel",
      "_view_count": null,
      "_view_module": "@jupyter-widgets/controls",
      "_view_module_version": "1.5.0",
      "_view_name": "ProgressView",
      "bar_style": "success",
      "description": "100%",
      "description_tooltip": null,
      "layout": "IPY_MODEL_2eb431a184234802ac34380123266203",
      "max": 102502400,
      "min": 0,
      "orientation": "horizontal",
      "style": "IPY_MODEL_e7b2e7f755cc41ae85b136c0d5aa4a99",
      "value": 102502400
     }
    },
    "2eb431a184234802ac34380123266203": {
     "model_module": "@jupyter-widgets/base",
     "model_name": "LayoutModel",
     "state": {
      "_model_module": "@jupyter-widgets/base",
      "_model_module_version": "1.2.0",
      "_model_name": "LayoutModel",
      "_view_count": null,
      "_view_module": "@jupyter-widgets/base",
      "_view_module_version": "1.2.0",
      "_view_name": "LayoutView",
      "align_content": null,
      "align_items": null,
      "align_self": null,
      "border": null,
      "bottom": null,
      "display": null,
      "flex": null,
      "flex_flow": null,
      "grid_area": null,
      "grid_auto_columns": null,
      "grid_auto_flow": null,
      "grid_auto_rows": null,
      "grid_column": null,
      "grid_gap": null,
      "grid_row": null,
      "grid_template_areas": null,
      "grid_template_columns": null,
      "grid_template_rows": null,
      "height": null,
      "justify_content": null,
      "justify_items": null,
      "left": null,
      "margin": null,
      "max_height": null,
      "max_width": null,
      "min_height": null,
      "min_width": null,
      "object_fit": null,
      "object_position": null,
      "order": null,
      "overflow": null,
      "overflow_x": null,
      "overflow_y": null,
      "padding": null,
      "right": null,
      "top": null,
      "visibility": null,
      "width": null
     }
    },
    "576a751f7e3b466f9174c24a94de2b01": {
     "model_module": "@jupyter-widgets/controls",
     "model_name": "HBoxModel",
     "state": {
      "_dom_classes": [],
      "_model_module": "@jupyter-widgets/controls",
      "_model_module_version": "1.5.0",
      "_model_name": "HBoxModel",
      "_view_count": null,
      "_view_module": "@jupyter-widgets/controls",
      "_view_module_version": "1.5.0",
      "_view_name": "HBoxView",
      "box_style": "",
      "children": [
       "IPY_MODEL_2a350d1fb0a146ad80f1b9c325ee1268",
       "IPY_MODEL_939023d3139541c8b860c914b4bb4c15"
      ],
      "layout": "IPY_MODEL_fb5e9be8e75e4b0b9536f2b40b505e3e"
     }
    },
    "684d48149fb1462191088b4fe060286d": {
     "model_module": "@jupyter-widgets/base",
     "model_name": "LayoutModel",
     "state": {
      "_model_module": "@jupyter-widgets/base",
      "_model_module_version": "1.2.0",
      "_model_name": "LayoutModel",
      "_view_count": null,
      "_view_module": "@jupyter-widgets/base",
      "_view_module_version": "1.2.0",
      "_view_name": "LayoutView",
      "align_content": null,
      "align_items": null,
      "align_self": null,
      "border": null,
      "bottom": null,
      "display": null,
      "flex": null,
      "flex_flow": null,
      "grid_area": null,
      "grid_auto_columns": null,
      "grid_auto_flow": null,
      "grid_auto_rows": null,
      "grid_column": null,
      "grid_gap": null,
      "grid_row": null,
      "grid_template_areas": null,
      "grid_template_columns": null,
      "grid_template_rows": null,
      "height": null,
      "justify_content": null,
      "justify_items": null,
      "left": null,
      "margin": null,
      "max_height": null,
      "max_width": null,
      "min_height": null,
      "min_width": null,
      "object_fit": null,
      "object_position": null,
      "order": null,
      "overflow": null,
      "overflow_x": null,
      "overflow_y": null,
      "padding": null,
      "right": null,
      "top": null,
      "visibility": null,
      "width": null
     }
    },
    "939023d3139541c8b860c914b4bb4c15": {
     "model_module": "@jupyter-widgets/controls",
     "model_name": "HTMLModel",
     "state": {
      "_dom_classes": [],
      "_model_module": "@jupyter-widgets/controls",
      "_model_module_version": "1.5.0",
      "_model_name": "HTMLModel",
      "_view_count": null,
      "_view_module": "@jupyter-widgets/controls",
      "_view_module_version": "1.5.0",
      "_view_name": "HTMLView",
      "description": "",
      "description_tooltip": null,
      "layout": "IPY_MODEL_684d48149fb1462191088b4fe060286d",
      "placeholder": "​",
      "style": "IPY_MODEL_fe935448f7204419938428c34e13e62f",
      "value": " 97.8M/97.8M [05:19&lt;00:00, 321kB/s]"
     }
    },
    "e7b2e7f755cc41ae85b136c0d5aa4a99": {
     "model_module": "@jupyter-widgets/controls",
     "model_name": "ProgressStyleModel",
     "state": {
      "_model_module": "@jupyter-widgets/controls",
      "_model_module_version": "1.5.0",
      "_model_name": "ProgressStyleModel",
      "_view_count": null,
      "_view_module": "@jupyter-widgets/base",
      "_view_module_version": "1.2.0",
      "_view_name": "StyleView",
      "bar_color": null,
      "description_width": "initial"
     }
    },
    "fb5e9be8e75e4b0b9536f2b40b505e3e": {
     "model_module": "@jupyter-widgets/base",
     "model_name": "LayoutModel",
     "state": {
      "_model_module": "@jupyter-widgets/base",
      "_model_module_version": "1.2.0",
      "_model_name": "LayoutModel",
      "_view_count": null,
      "_view_module": "@jupyter-widgets/base",
      "_view_module_version": "1.2.0",
      "_view_name": "LayoutView",
      "align_content": null,
      "align_items": null,
      "align_self": null,
      "border": null,
      "bottom": null,
      "display": null,
      "flex": null,
      "flex_flow": null,
      "grid_area": null,
      "grid_auto_columns": null,
      "grid_auto_flow": null,
      "grid_auto_rows": null,
      "grid_column": null,
      "grid_gap": null,
      "grid_row": null,
      "grid_template_areas": null,
      "grid_template_columns": null,
      "grid_template_rows": null,
      "height": null,
      "justify_content": null,
      "justify_items": null,
      "left": null,
      "margin": null,
      "max_height": null,
      "max_width": null,
      "min_height": null,
      "min_width": null,
      "object_fit": null,
      "object_position": null,
      "order": null,
      "overflow": null,
      "overflow_x": null,
      "overflow_y": null,
      "padding": null,
      "right": null,
      "top": null,
      "visibility": null,
      "width": null
     }
    },
    "fe935448f7204419938428c34e13e62f": {
     "model_module": "@jupyter-widgets/controls",
     "model_name": "DescriptionStyleModel",
     "state": {
      "_model_module": "@jupyter-widgets/controls",
      "_model_module_version": "1.5.0",
      "_model_name": "DescriptionStyleModel",
      "_view_count": null,
      "_view_module": "@jupyter-widgets/base",
      "_view_module_version": "1.2.0",
      "_view_name": "StyleView",
      "description_width": ""
     }
    }
   }
  }
 },
 "nbformat": 4,
 "nbformat_minor": 1
}
